{
  "nbformat": 4,
  "nbformat_minor": 0,
  "metadata": {
    "colab": {
      "provenance": []
    },
    "kernelspec": {
      "name": "python3",
      "display_name": "Python 3"
    },
    "language_info": {
      "name": "python"
    }
  },
  "cells": [
    {
      "cell_type": "code",
      "execution_count": null,
      "metadata": {
        "colab": {
          "base_uri": "https://localhost:8080/"
        },
        "id": "bEtUryYAkoOU",
        "outputId": "63802ff7-90fc-4bdd-b590-bf342e361b51"
      },
      "outputs": [
        {
          "output_type": "stream",
          "name": "stdout",
          "text": [
            "Insira a quantidade de maçãs vendidas: -12\n",
            "Insira a quantidade de bananas vendidas: 10\n",
            "Um ou mais valores inválidos!\n"
          ]
        }
      ],
      "source": [
        "#01) Bruno gerencia um pequeno comércio e quer saber qual produto teve o melhor desempenho de vendas no mês passado. Ele registrou a quantidade vendida de dois produtos: maçãs e bananas.\n",
        "#Agora, ele precisa escrever um programa que identifique e exiba qual deles teve maior venda.\n",
        "#Crie um programa que receba o número de vendas dos dois produtos e exiba uma mensagem indicando qual deles vendeu mais. Se as quantidades forem iguais, exiba uma mensagem dizendo que houve empate.\n",
        "\n",
        "maca = int(input(\"Insira a quantidade de maçãs vendidas: \"))\n",
        "banana = int(input(\"Insira a quantidade de bananas vendidas: \"))\n",
        "\n",
        "if(maca < 0 or banana < 0): #Caso uma das frutas seja menor que 0, exibirá valor inválido, não executando o restante do código\n",
        "  print(\"Um ou mais valores inválidos!\")\n",
        "else:\n",
        "\n",
        "  #Estrutura de decisão para definir qual fruta vendeu mais.\n",
        "  if(maca > banana):\n",
        "    print(\"As maçãs venderam mais!\")\n",
        "  elif(maca < banana):\n",
        "    print(\"As bananas venderam mais!\")\n",
        "  else:\n",
        "    print(\"Ambas tiveram a mesma quantidade de vendas!\")"
      ]
    },
    {
      "cell_type": "code",
      "source": [
        "#02) Camila está organizando um projeto e precisa calcular o tempo total necessário para concluir três atividades: A, B e C. No entanto, se alguma atividade tiver um número de dias negativo,\n",
        "#o código deve avisar que os valores inseridos são inválidos e não calcular o total.\n",
        "#Escreva um programa que receba o número de dias de três atividades e exiba o tempo total do projeto. Se algum valor for negativo, mostre uma mensagem informando o erro.\n",
        "\n",
        "at_1 = int(input(\"Insira os dias para atividade 1: \"))\n",
        "at_2 = int(input(\"Insira os dias para atividade 2: \"))\n",
        "at_3 = int(input(\"Insira os dias para atividade 3: \"))\n",
        "\n",
        "if(at_1 < 0 or at_2 < 0 or at_3 < 0): #Caso uma das atividades seja menor que 0, emitirá um erro.\n",
        "  print(\"Erro: Os dias não podem ser negativos!\")\n",
        "else:\n",
        "\n",
        "  print(f\"Quantidade de dias totais: {at_1 + at_2 + at_3}\")\n"
      ],
      "metadata": {
        "colab": {
          "base_uri": "https://localhost:8080/"
        },
        "id": "rgq2BFrZlo1e",
        "outputId": "d540b081-3b9d-4ccc-becc-8146f187b39b"
      },
      "execution_count": null,
      "outputs": [
        {
          "output_type": "stream",
          "name": "stdout",
          "text": [
            "Insira os dias para atividade 1: -2\n",
            "Insira os dias para atividade 2: 5\n",
            "Insira os dias para atividade 3: 1\n",
            "Erro: Os dias não podem ser negativos!\n"
          ]
        }
      ]
    },
    {
      "cell_type": "code",
      "source": [
        "#03) Lucas trabalha em TI e precisa garantir que a temperatura de uma sala de servidores não ultrapasse 25°C. Ele quer um programa que receba a temperatura atual como entrada e, se necessário, exiba uma mensagem de alerta.\n",
        "\n",
        "temperatura_atual = float(input(\"Insira a temperatura atual: \"))\n",
        "\n",
        "#Estrutura de decisão para ver se a temperatura está ou não nos conformes.\n",
        "if(temperatura_atual > 25):\n",
        "  print(\"Alerta! Temperatura acima do limite permitido!\")\n",
        "else:\n",
        "  print(\"Tudo nos conformes!\")"
      ],
      "metadata": {
        "colab": {
          "base_uri": "https://localhost:8080/"
        },
        "id": "V709Nw4zmism",
        "outputId": "d3071f05-a785-47ab-d32c-8f210e250d1d"
      },
      "execution_count": null,
      "outputs": [
        {
          "output_type": "stream",
          "name": "stdout",
          "text": [
            "Insira a temperatura atual: 23.4\n",
            "Tudo nos conformes!\n"
          ]
        }
      ]
    },
    {
      "cell_type": "code",
      "source": [
        "#04) Anna Júlia está criando um sistema para calcular o Índice de Massa Corporal (IMC) e fornecer recomendações básicas. O programa deve receber o peso e a altura de uma pessoa e exibir o valor do IMC,\n",
        "#além de indicar se está abaixo do peso, com peso normal ou acima do peso. Crie um programa que receba o peso (em kg) e a altura (em metros) e calcule o IMC usando a fórmula: IMC = peso / (altura ** 2)\n",
        "#Depois, exiba o valor do IMC e uma mensagem indicando se está abaixo do peso (IMC < 18.5), peso normal (18.5 <= IMC < 25) ou acima do peso (IMC >= 25).\n",
        "\n",
        "peso = float(input(\"Insira o peso em kg: \"))\n",
        "altura = float(input(\"Insira a altura em metros: \"))\n",
        "\n",
        "if(peso <= 0 or altura <= 0): #Caso peso ou altura seja menor igual a 0, emitirá valor inválido, não executando o restante do código\n",
        "  print(\"Um ou mais valores inválidos!\")\n",
        "else:\n",
        "\n",
        "  imc = peso / (altura ** 2) #Cálculo do imc\n",
        "\n",
        "  print(f\"{imc:.2f}\")\n",
        "\n",
        "  #Estrutura de decisão para definir o imc ideal.\n",
        "  if(imc < 18.5):\n",
        "    print(\"Está abaixo do peso!\")\n",
        "  elif(imc >= 18.5 and imc <= 25):\n",
        "    print(\"Peso Normal!\")\n",
        "  else:\n",
        "    print(\"Está acima do peso!\")"
      ],
      "metadata": {
        "colab": {
          "base_uri": "https://localhost:8080/"
        },
        "id": "pLTBqadBm8am",
        "outputId": "ebab981f-5a86-4673-a1fa-d7f68eb52fbb"
      },
      "execution_count": null,
      "outputs": [
        {
          "output_type": "stream",
          "name": "stdout",
          "text": [
            "Insira o peso em kg: 80\n",
            "Insira a altura em metros: 1.71\n",
            "27.36\n",
            "Está acima do peso!\n"
          ]
        }
      ]
    },
    {
      "cell_type": "code",
      "source": [
        "#05) Carlos quer monitorar seu orçamento mensal para evitar gastos excessivos. Ele estabeleceu um limite de R$ 3.000,00 para seus gastos e precisa de um programa que ajude a controlar suas despesas.\n",
        "#O programa deve receber o total de despesas realizadas e informar se ele ultrapassou o limite ou ainda está dentro do orçamento.\n",
        "\n",
        "despesa_mensal = float(input(\"Insira a despesa mensal: \"))\n",
        "\n",
        "if(despesa_mensal < 0): #Se a despesa mensal for menor que 0, emitirá valor inválido,não executando o restante do código\n",
        "  print(\"Valor inválido!\")\n",
        "else:\n",
        "\n",
        "  #Estrutura de decisão para definir se o limite ultrapassou ou se está nos conformes.\n",
        "  if(despesa_mensal > 3000):\n",
        "    print(\"Atenção! Você ultrapassou o limite de orçamento.\")\n",
        "  else:\n",
        "    print(\"Está tudo nos conformes!\")"
      ],
      "metadata": {
        "colab": {
          "base_uri": "https://localhost:8080/"
        },
        "id": "jqYmFuPForqH",
        "outputId": "481e61ac-982f-4837-80b1-446b8667394b"
      },
      "execution_count": null,
      "outputs": [
        {
          "output_type": "stream",
          "name": "stdout",
          "text": [
            "Insira a despesa mensal: -15\n",
            "Valor inválido!\n"
          ]
        }
      ]
    },
    {
      "cell_type": "code",
      "source": [
        "#06) Mariana é responsável por liberar o acesso ao escritório e precisa de um programa que verifique se os funcionários podem entrar. Para isso, ela usará o horário atual.\n",
        "#O escritório só permite acesso entre 8h e 18h. Crie um programa que receba a hora atual como entrada (em formato de 24 horas) e exiba uma mensagem informando se o acesso é permitido ou negado.\n",
        "\n",
        "hora_atual = int(input(\"Insira o horário atual: \"))\n",
        "\n",
        "if(hora_atual < 0 or hora_atual > 24): #Se a hora atual for menor que 0 ou maior que 24, emitirá um horário inválido, não executando o restante do código\n",
        "  print(\"Horário inválido!\")\n",
        "else:\n",
        "\n",
        "  #Estrutura de decisão para liberar ou negar acesso de acordo com o horário.\n",
        "  if(hora_atual >= 8 and hora_atual <= 18):\n",
        "    print(\"Acesso liberado!\")\n",
        "  else:\n",
        "    print(\"Acesso negado!\")"
      ],
      "metadata": {
        "colab": {
          "base_uri": "https://localhost:8080/"
        },
        "id": "JKa5YwN2q15f",
        "outputId": "b7d3d2b9-d8bc-4fe9-9c03-feb4eb2554c5"
      },
      "execution_count": null,
      "outputs": [
        {
          "output_type": "stream",
          "name": "stdout",
          "text": [
            "Insira o horário atual: -12\n",
            "Horário inválido!\n"
          ]
        }
      ]
    },
    {
      "cell_type": "code",
      "source": [
        "#07) Uma professora precisa de um programa que ajude a calcular a média final dos alunos e informe se foram aprovados, ficaram de recuperação ou reprovados. As regras são:\n",
        "\n",
        "#Média >= 7: Aprovado\n",
        "#5 <= Média < 7: Recuperação\n",
        "#Média < 5: Reprovado\n",
        "#Escreva um programa que receba três notas como entrada e calcule a média final. Com base na média, exiba a situação do aluno.\n",
        "\n",
        "nota_1 = float(input(\"Insira a nota 1: \"))\n",
        "nota_2 = float(input(\"Insira a nota 2: \"))\n",
        "nota_3 = float(input(\"Insira a nota 3: \"))\n",
        "\n",
        "if(nota_1 < 0 or nota_1 > 10 or nota_2 < 0 or nota_2 > 10 or nota_3 < 0 or nota_3 > 10): #Caso uma das notas seja menor que 0 ou maior que 10, emitirá como valor inválido, não executando o restante do código\n",
        "  print(\"Um ou mais valores inválidos!\")\n",
        "else:\n",
        "\n",
        "  media = ((nota_1 + nota_2 + nota_3)/ 3) #Cálculo da média\n",
        "\n",
        "  print(f\"{media}\")\n",
        "\n",
        "  #Estrutura de decisão para classificar o aluno conforme a média.\n",
        "  if(media >= 7):\n",
        "    print(\"Aprovado!\")\n",
        "  elif(media < 7 and media >= 5):\n",
        "    print(\"Recuperação!\")\n",
        "  else:\n",
        "    print(\"Reprovado!\")"
      ],
      "metadata": {
        "colab": {
          "base_uri": "https://localhost:8080/"
        },
        "id": "VcqU9U0SsKsO",
        "outputId": "ba927a64-14cb-4a6b-b532-032df1538b11"
      },
      "execution_count": null,
      "outputs": [
        {
          "output_type": "stream",
          "name": "stdout",
          "text": [
            "Insira a nota 1: 10\n",
            "Insira a nota 2: 10\n",
            "Insira a nota 3: 12\n",
            "Um ou mais valores inválidos!\n"
          ]
        }
      ]
    },
    {
      "cell_type": "code",
      "source": [
        "#08) Fernanda está planejando uma viagem e quer calcular quanto pagará de pedágio. O valor do pedágio depende da distância percorrida:\n",
        "\n",
        "#Até 100 km: R$ 10,00\n",
        "#Entre 100 km e 200 km: R$ 20,00\n",
        "#Acima de 200 km: R$ 30,00\n",
        "#Crie um programa que receba a distância percorrida e informe o valor do pedágio correspondente.\n",
        "\n",
        "distancia = float(input(\"Insira a distância que será percorrida em quilômetros: \"))\n",
        "\n",
        "if(distancia <= 0): #Se a distância for menor igual a 0, emitirá um valor inválido, não executando o restante do código\n",
        "  print(\"Valor Inválido!\")\n",
        "else:\n",
        "\n",
        "  #Estrutura de decisão para definir o valor do pedágio com base na distância.\n",
        "  if(distancia <= 100):\n",
        "    print(\"Valor do pedágio: R$ 10,00\")\n",
        "  elif(distancia > 100 and distancia <= 200):\n",
        "    print(\"Valor do pedágio: R$ 20,00\")\n",
        "  else:\n",
        "    print(\"Valor do pedágio: R$ 30,00\")\n"
      ],
      "metadata": {
        "colab": {
          "base_uri": "https://localhost:8080/"
        },
        "id": "Q3r6_R_iuWEn",
        "outputId": "6614414f-c858-4edd-d568-04fefaeb9491"
      },
      "execution_count": null,
      "outputs": [
        {
          "output_type": "stream",
          "name": "stdout",
          "text": [
            "Insira a distância que será percorrida em quilômetros: 999\n",
            "Valor do pedágio: R$ 30,00\n"
          ]
        }
      ]
    },
    {
      "cell_type": "code",
      "source": [
        "#09) Lucas está desenvolvendo um jogo e precisa de uma funcionalidade que verifique se um número é par ou ímpar. Essa verificação será usada para definir ações diferentes dentro do jogo.\n",
        "#Escreva um programa que receba um número inteiro e exiba uma mensagem informando se ele é par ou ímpar.\n",
        "\n",
        "numero = int(input(\"Insira um número inteiro qualquer: \"))\n",
        "\n",
        "#Estrutura de decisão para definir se é impar ou par.\n",
        "if(numero % 2 == 0):\n",
        "  print(\"É par\")\n",
        "else:\n",
        "  print(\"É impar\")"
      ],
      "metadata": {
        "colab": {
          "base_uri": "https://localhost:8080/"
        },
        "id": "GyIZVErVvVVx",
        "outputId": "c1fab590-bb37-4586-9904-ceff3f9ff6f3"
      },
      "execution_count": null,
      "outputs": [
        {
          "output_type": "stream",
          "name": "stdout",
          "text": [
            "Insira um número inteiro qualquer: 10\n",
            "É par\n"
          ]
        }
      ]
    },
    {
      "cell_type": "code",
      "source": [
        "#10) Pedro quer solicitar um empréstimo, mas a aprovação depende de duas condições:\n",
        "\n",
        "#O valor da renda mensal precisa ser maior que R$ 2.000,00.\n",
        "#O valor da parcela não pode ultrapassar 30% da renda.\n",
        "#Crie um programa que receba como entrada a renda mensal de Pedro e o valor da parcela desejada. O programa deve informar se o empréstimo foi aprovado ou negado com base nas condições acima.\n",
        "\n",
        "renda_mensal = float(input(\"Insira a renda mensal: \"))\n",
        "parcela_desejada = float(input(\"Insira a parcela desejada: \"))\n",
        "\n",
        "if(renda_mensal < 0 or parcela_desejada < 0): #Se a renda mensal for menor que 0 ou parcela desejada for menor que 0, emitirá valor inválido, não executando o restante do código.\n",
        "  print(\"Um ou mais valores inválidos!\")\n",
        "else:\n",
        "\n",
        "  parcela_maxima = renda_mensal * 0.3 #Cálculo da parcela máxima.\n",
        "\n",
        "  print(f\"Parcela máxima permitida de acordo com a renda atual: R${parcela_maxima}\")\n",
        "\n",
        "  #Estrutura de decisão para liberar ou não o empréstimo com base na renda mensal.\n",
        "  if(renda_mensal < 2000):\n",
        "    print(\"Empréstimo negado: renda mensal insuficiente!\")\n",
        "  elif(parcela_desejada > parcela_maxima):\n",
        "    print(\"Empréstimo negado: Parcela acima dos 30% da renda!\")\n",
        "  else:\n",
        "    print(\"Empréstimo liberado!\")"
      ],
      "metadata": {
        "colab": {
          "base_uri": "https://localhost:8080/"
        },
        "id": "i8jeW3e3wO-J",
        "outputId": "8580c97e-91ed-4acd-8336-3bdd76b3f6ef"
      },
      "execution_count": null,
      "outputs": [
        {
          "output_type": "stream",
          "name": "stdout",
          "text": [
            "Insira a renda mensal: 2000\n",
            "Insira a parcela desejada: 300\n",
            "Parcela máxima permitida de acordo com a renda atual: R$600.0\n",
            "Empréstimo liberado!\n"
          ]
        }
      ]
    }
  ]
}