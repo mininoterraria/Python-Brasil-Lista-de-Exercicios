{
  "nbformat": 4,
  "nbformat_minor": 0,
  "metadata": {
    "colab": {
      "provenance": []
    },
    "kernelspec": {
      "name": "python3",
      "display_name": "Python 3"
    },
    "language_info": {
      "name": "python"
    }
  },
  "cells": [
    {
      "cell_type": "code",
      "execution_count": null,
      "metadata": {
        "colab": {
          "base_uri": "https://localhost:8080/"
        },
        "id": "TshFa8N856U0",
        "outputId": "227c0d6d-128c-4ede-c80a-9b47a83277ca"
      },
      "outputs": [
        {
          "output_type": "stream",
          "name": "stdout",
          "text": [
            "Nome do projeto: website\n",
            "Nome do projeto: jogo\n",
            "Nome do projeto: análise de dados\n",
            "Projeto não disponível!\n",
            "Nome do projeto: aplicativo móvel\n"
          ]
        }
      ],
      "source": [
        "#01) Você está desenvolvendo seu portfólio para exibir seus projetos de Python. Cada projeto está listado em uma seção específica, mas alguns itens podem não estar disponíveis,\n",
        "#aparecendo como None na lista. Para garantir que a exibição dos projetos seja clara e sem erros, você precisa verificar se cada item da lista possui um valor válido antes de exibi-lo.\n",
        "\n",
        "projetos = [\"website\", \"jogo\", \"análise de dados\", None, \"aplicativo móvel\"] #Projetos disponiveis.\n",
        "\n",
        "#Estrutura de repetição para percorrer a lista de projetos.\n",
        "for projeto in projetos:\n",
        "\n",
        "  #Estrutura de decisão para exibir o projeto disponivel na lista.\n",
        "  if projeto:\n",
        "    print(f\"Nome do projeto: {projeto}\")\n",
        "  else:\n",
        "    print(\"Projeto não disponível!\")"
      ]
    },
    {
      "cell_type": "code",
      "source": [
        "#02) Você está desenvolvendo um programa que calcula a soma de todos os números de uma lista. Seu objetivo é garantir que o programa percorra corretamente a lista e acumule o valor total de todos os números presentes.\n",
        "\n",
        "numeros = [10, 20, 30, 40, 50] #Lista de números para somar.\n",
        "\n",
        "soma = 0 #Variável onde ficará o resultado da soma.\n",
        "\n",
        "#Estrutura de repetição para percorrer a lista de números e fazer a soma deles.\n",
        "for numero in numeros:\n",
        "  soma += numero\n",
        "print(f\"Soma total dos valores: {soma}\")"
      ],
      "metadata": {
        "colab": {
          "base_uri": "https://localhost:8080/"
        },
        "id": "XieclBWD6OLg",
        "outputId": "80d8567a-ef42-49c8-f91f-8f3ae3025d6a"
      },
      "execution_count": null,
      "outputs": [
        {
          "output_type": "stream",
          "name": "stdout",
          "text": [
            "Soma total dos valores: 150\n"
          ]
        }
      ]
    },
    {
      "cell_type": "code",
      "source": [
        "#03) Você está desenvolvendo um sistema de controle de estoque para o \"Buscante\". Um dos requisitos é verificar a quantidade de exemplares de um livro em estoque e continuar vendendo até que o estoque se esgote.\n",
        "#Sempre que uma venda é realizada, o sistema deve informar o usuário e atualizar a quantidade disponível. Considere a seguinte variável inicial:\n",
        "\n",
        "estoque = 5 #Quantidade de livros no estoque.\n",
        "\n",
        "#Estrutura de repetição que esvaziará o estoque até todos os livros serem vendidos.\n",
        "while estoque > 0:\n",
        "  print(f\"Estoque disponível: {estoque}\")\n",
        "  estoque -= 1\n",
        "print(\"Livros vendidos!\")"
      ],
      "metadata": {
        "colab": {
          "base_uri": "https://localhost:8080/"
        },
        "id": "SGUqZhqH7aS1",
        "outputId": "e1c143f6-dc06-46bc-e0ff-360ae1fccf6f"
      },
      "execution_count": null,
      "outputs": [
        {
          "output_type": "stream",
          "name": "stdout",
          "text": [
            "Estoque disponível: 5\n",
            "Estoque disponível: 4\n",
            "Estoque disponível: 3\n",
            "Estoque disponível: 2\n",
            "Estoque disponível: 1\n",
            "Livros vendidos!\n"
          ]
        }
      ]
    },
    {
      "cell_type": "code",
      "source": [
        "#04) Você está implementando uma funcionalidade no \"Buscante\" que exibe uma contagem regressiva de tempo para uma promoção especial. O objetivo é imprimir a contagem regressiva começando de 10 até 1 e, ao final,\n",
        "#exibir a mensagem \"Promoção iniciada!\".\n",
        "\n",
        "#Estrutura de repetição que fará a contagem regressiva de 10 até 1.\n",
        "for contagem in range(10,0,-1):\n",
        "  print(contagem)\n",
        "print(\"Promoção iniciada!\")"
      ],
      "metadata": {
        "colab": {
          "base_uri": "https://localhost:8080/"
        },
        "id": "oSF2s1U583KY",
        "outputId": "f025db20-714b-422f-d5e7-a66fb9cf0b13"
      },
      "execution_count": null,
      "outputs": [
        {
          "output_type": "stream",
          "name": "stdout",
          "text": [
            "10\n",
            "9\n",
            "8\n",
            "7\n",
            "6\n",
            "5\n",
            "4\n",
            "3\n",
            "2\n",
            "1\n",
            "Promoção iniciada!\n"
          ]
        }
      ]
    },
    {
      "cell_type": "code",
      "source": [
        "#05) Você está desenvolvendo o sistema de login para o \"Buscante\". O sistema deve pedir ao usuário para inserir um nome de usuário e senha.\n",
        "#O nome de usuário deve ter pelo menos 5 caracteres e a senha deve ter pelo menos 8 caracteres. Caso as condições não sejam atendidas, o sistema deve continuar pedindo as informações até que o usuário insira dados válidos.\n",
        "\n",
        "flag = True #A flag será utilizada para mudar o curso do loop quando a condição exata for atendida.\n",
        "\n",
        "#Estrutura de repetição que continuará rodando até a flag ser falsa.\n",
        "while flag:\n",
        "\n",
        "  usuario = input(\"Insira o usuário:\")\n",
        "  senha = input(\"Insira a senha: \")\n",
        "\n",
        "  #Caso a quantidade de letras em usuário for menor que 5 ou da senha seja menor que 8, exibirá valor inválido, do contrário, liberará o acesso e encerrará o loop.\n",
        "  if(len(usuario) < 5 or len(senha) < 8):\n",
        "    print(\"Um ou mais dados inválidos!\")\n",
        "  else:\n",
        "    print(\"Acesso liberado!\")\n",
        "    flag = False\n"
      ],
      "metadata": {
        "colab": {
          "base_uri": "https://localhost:8080/",
          "height": 408
        },
        "id": "JTBF_8Pg9VYv",
        "outputId": "48cda61a-cacf-4aca-f0dd-e1f923a50739"
      },
      "execution_count": null,
      "outputs": [
        {
          "output_type": "stream",
          "name": "stdout",
          "text": [
            "Insira o usuário:dalva\n",
            "Insira a senha: arroz\n",
            "Um ou mais dados inválidos!\n"
          ]
        },
        {
          "output_type": "error",
          "ename": "KeyboardInterrupt",
          "evalue": "Interrupted by user",
          "traceback": [
            "\u001b[0;31m---------------------------------------------------------------------------\u001b[0m",
            "\u001b[0;31mKeyboardInterrupt\u001b[0m                         Traceback (most recent call last)",
            "\u001b[0;32m<ipython-input-23-0839f8a96aef>\u001b[0m in \u001b[0;36m<cell line: 3>\u001b[0;34m()\u001b[0m\n\u001b[1;32m      2\u001b[0m \u001b[0mflag\u001b[0m \u001b[0;34m=\u001b[0m \u001b[0;32mTrue\u001b[0m \u001b[0;31m#A flag será utilizada para mudar o curso do loop quando a condição exata for atendida.\u001b[0m\u001b[0;34m\u001b[0m\u001b[0;34m\u001b[0m\u001b[0m\n\u001b[1;32m      3\u001b[0m \u001b[0;32mwhile\u001b[0m \u001b[0mflag\u001b[0m\u001b[0;34m:\u001b[0m\u001b[0;34m\u001b[0m\u001b[0;34m\u001b[0m\u001b[0m\n\u001b[0;32m----> 4\u001b[0;31m   \u001b[0musuario\u001b[0m \u001b[0;34m=\u001b[0m \u001b[0minput\u001b[0m\u001b[0;34m(\u001b[0m\u001b[0;34m\"Insira o usuário:\"\u001b[0m\u001b[0;34m)\u001b[0m\u001b[0;34m\u001b[0m\u001b[0;34m\u001b[0m\u001b[0m\n\u001b[0m\u001b[1;32m      5\u001b[0m   \u001b[0msenha\u001b[0m \u001b[0;34m=\u001b[0m \u001b[0minput\u001b[0m\u001b[0;34m(\u001b[0m\u001b[0;34m\"Insira a senha: \"\u001b[0m\u001b[0;34m)\u001b[0m\u001b[0;34m\u001b[0m\u001b[0;34m\u001b[0m\u001b[0m\n\u001b[1;32m      6\u001b[0m   \u001b[0;32mif\u001b[0m\u001b[0;34m(\u001b[0m\u001b[0mlen\u001b[0m\u001b[0;34m(\u001b[0m\u001b[0musuario\u001b[0m\u001b[0;34m)\u001b[0m \u001b[0;34m<\u001b[0m \u001b[0;36m5\u001b[0m \u001b[0;32mor\u001b[0m \u001b[0mlen\u001b[0m\u001b[0;34m(\u001b[0m\u001b[0msenha\u001b[0m\u001b[0;34m)\u001b[0m \u001b[0;34m<\u001b[0m \u001b[0;36m8\u001b[0m\u001b[0;34m)\u001b[0m\u001b[0;34m:\u001b[0m\u001b[0;34m\u001b[0m\u001b[0;34m\u001b[0m\u001b[0m\n",
            "\u001b[0;32m/usr/local/lib/python3.10/dist-packages/ipykernel/kernelbase.py\u001b[0m in \u001b[0;36mraw_input\u001b[0;34m(self, prompt)\u001b[0m\n\u001b[1;32m    849\u001b[0m                 \u001b[0;34m\"raw_input was called, but this frontend does not support input requests.\"\u001b[0m\u001b[0;34m\u001b[0m\u001b[0;34m\u001b[0m\u001b[0m\n\u001b[1;32m    850\u001b[0m             )\n\u001b[0;32m--> 851\u001b[0;31m         return self._input_request(str(prompt),\n\u001b[0m\u001b[1;32m    852\u001b[0m             \u001b[0mself\u001b[0m\u001b[0;34m.\u001b[0m\u001b[0m_parent_ident\u001b[0m\u001b[0;34m,\u001b[0m\u001b[0;34m\u001b[0m\u001b[0;34m\u001b[0m\u001b[0m\n\u001b[1;32m    853\u001b[0m             \u001b[0mself\u001b[0m\u001b[0;34m.\u001b[0m\u001b[0m_parent_header\u001b[0m\u001b[0;34m,\u001b[0m\u001b[0;34m\u001b[0m\u001b[0;34m\u001b[0m\u001b[0m\n",
            "\u001b[0;32m/usr/local/lib/python3.10/dist-packages/ipykernel/kernelbase.py\u001b[0m in \u001b[0;36m_input_request\u001b[0;34m(self, prompt, ident, parent, password)\u001b[0m\n\u001b[1;32m    893\u001b[0m             \u001b[0;32mexcept\u001b[0m \u001b[0mKeyboardInterrupt\u001b[0m\u001b[0;34m:\u001b[0m\u001b[0;34m\u001b[0m\u001b[0;34m\u001b[0m\u001b[0m\n\u001b[1;32m    894\u001b[0m                 \u001b[0;31m# re-raise KeyboardInterrupt, to truncate traceback\u001b[0m\u001b[0;34m\u001b[0m\u001b[0;34m\u001b[0m\u001b[0m\n\u001b[0;32m--> 895\u001b[0;31m                 \u001b[0;32mraise\u001b[0m \u001b[0mKeyboardInterrupt\u001b[0m\u001b[0;34m(\u001b[0m\u001b[0;34m\"Interrupted by user\"\u001b[0m\u001b[0;34m)\u001b[0m \u001b[0;32mfrom\u001b[0m \u001b[0;32mNone\u001b[0m\u001b[0;34m\u001b[0m\u001b[0;34m\u001b[0m\u001b[0m\n\u001b[0m\u001b[1;32m    896\u001b[0m             \u001b[0;32mexcept\u001b[0m \u001b[0mException\u001b[0m \u001b[0;32mas\u001b[0m \u001b[0me\u001b[0m\u001b[0;34m:\u001b[0m\u001b[0;34m\u001b[0m\u001b[0;34m\u001b[0m\u001b[0m\n\u001b[1;32m    897\u001b[0m                 \u001b[0mself\u001b[0m\u001b[0;34m.\u001b[0m\u001b[0mlog\u001b[0m\u001b[0;34m.\u001b[0m\u001b[0mwarning\u001b[0m\u001b[0;34m(\u001b[0m\u001b[0;34m\"Invalid Message:\"\u001b[0m\u001b[0;34m,\u001b[0m \u001b[0mexc_info\u001b[0m\u001b[0;34m=\u001b[0m\u001b[0;32mTrue\u001b[0m\u001b[0;34m)\u001b[0m\u001b[0;34m\u001b[0m\u001b[0;34m\u001b[0m\u001b[0m\n",
            "\u001b[0;31mKeyboardInterrupt\u001b[0m: Interrupted by user"
          ]
        }
      ]
    }
  ]
}