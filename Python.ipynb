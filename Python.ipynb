{
    "cells": [
      {
        "cell_type": "code",
        "execution_count": 1,
        "metadata": {},
        "outputs": [],
        "source": [
          "print('Hello, world!')"
        ]
      },
      {
        "cell_type": "markdown",
        "metadata": {},
        "source": [
        ]
      }
    ],
    "metadata": {},
    "nbformat": 4,
    "nbformat_minor": 5
  }