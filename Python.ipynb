{
  "cells": [
    {
      "cell_type": "code",
      "execution_count": 1,
      "id": "d4cff76a",
      "metadata": {},
      "outputs": [],
      "source": [
        "print('Hello, world!') #Aqui está a mensagem lol."
      ]
    },
    {
      "cell_type": "markdown",
      "id": "602001f8",
      "metadata": {},
      "source": []
    }
  ],
  "metadata": {
    "language_info": {
      "name": "python"
    }
  },
  "nbformat": 4,
  "nbformat_minor": 5
}
