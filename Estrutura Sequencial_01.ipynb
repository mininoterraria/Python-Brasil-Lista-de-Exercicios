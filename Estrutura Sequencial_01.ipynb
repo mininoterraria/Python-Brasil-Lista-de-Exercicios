{
  "nbformat": 4,
  "nbformat_minor": 0,
  "metadata": {
    "colab": {
      "provenance": [],
      "authorship_tag": "ABX9TyPAxsMMhrvAnN4x4giTmvYD",
      "include_colab_link": true
    },
    "kernelspec": {
      "name": "python3",
      "display_name": "Python 3"
    },
    "language_info": {
      "name": "python"
    }
  },
  "cells": [
    {
      "cell_type": "markdown",
      "metadata": {
        "id": "view-in-github",
        "colab_type": "text"
      },
      "source": [
        "<a href=\"https://colab.research.google.com/github/mininoterraria/Praticando-Python/blob/main/Estrutura%20Sequencial_01.ipynb\" target=\"_parent\"><img src=\"https://colab.research.google.com/assets/colab-badge.svg\" alt=\"Open In Colab\"/></a>"
      ]
    },
    {
      "cell_type": "code",
      "execution_count": null,
      "metadata": {
        "id": "mMhvP4ueRGEh"
      },
      "outputs": [],
      "source": [
        "#01) Faça um Programa que mostre a mensagem \"Alo mundo\" na tela.\n",
        "\n",
        "print(\"Alo mundo\")"
      ]
    },
    {
      "cell_type": "code",
      "source": [
        "#02) Faça um Programa que peça um número e então mostre a mensagem O número informado foi [número].\n",
        "\n",
        "numero = int(input(\"Insira um número: \"))\n",
        "\n",
        "print(f\"O número informado foi: {numero} \")"
      ],
      "metadata": {
        "id": "FEHscNqARRte"
      },
      "execution_count": null,
      "outputs": []
    },
    {
      "cell_type": "code",
      "source": [
        "#03) Faça um Programa que peça dois números e imprima a soma.\n",
        "\n",
        "numero_1 = int(input(\"Insira o primeiro número: \"))\n",
        "numero_2 = int(input(\"Insira o segundo número: \"))\n",
        "\n",
        "#Faz a soma dos dois numeros\n",
        "soma = numero_1 + numero_2\n",
        "print(f\"Soma dos valores: {soma}\")"
      ],
      "metadata": {
        "id": "ikEwr3oaRuyn"
      },
      "execution_count": null,
      "outputs": []
    },
    {
      "cell_type": "code",
      "source": [
        "#04) Faça um Programa que peça as 4 notas bimestrais e mostre a média.\n",
        "\n",
        "nota_1 = float(input(\"Insira a primeira nota: \"))\n",
        "nota_2 = float(input(\"Insira a segunda nota: \"))\n",
        "nota_3 = float(input(\"Insira a terceira nota: \"))\n",
        "nota_4 = float(input(\"Insira a quarta nota: \"))\n",
        "\n",
        "#Se qualquer uma das notas for menor que 0, dará como valor inválido, não executando o restante do código.\n",
        "if(nota_1 or nota_2 or nota_3 or nota_4 < 0):\n",
        "  print(\"Um ou mais notas inválidas!\")\n",
        "else:\n",
        "  media = (nota_1 + nota_2 + nota_3 + nota_4) / 4\n",
        "  print(f\"Média bimestral: {media}\")"
      ],
      "metadata": {
        "id": "yAMbYBqmR8Dn"
      },
      "execution_count": null,
      "outputs": []
    },
    {
      "cell_type": "code",
      "source": [
        "#05) Faça um Programa que converta metros para centímetros.\n",
        "\n",
        "metros = float(input(\"Insira a medida em metros: \"))\n",
        "\n",
        "#Cálculo para conversão de metros em centímetros.\n",
        "conversao = metros * 100\n",
        "\n",
        "print(f\"A conversão de metros para centímetros é: {conversao}cm\")"
      ],
      "metadata": {
        "id": "9aQLV4UDSX4P"
      },
      "execution_count": null,
      "outputs": []
    },
    {
      "cell_type": "code",
      "source": [
        "#06) Faça um Programa que peça o raio de um círculo, calcule e mostre sua área.\n",
        "\n",
        "raio = float(input(\"Insira o raio do circulo: \"))\n",
        "\n",
        "#Se o raio for menor igual a 0 retorna um erro, não executando o restante do código.\n",
        "if(raio <= 0):\n",
        "  print(\"Raio inválido!\")\n",
        "else:\n",
        "\n",
        "  #Faz o cálculo da área do círculo.\n",
        "  area_circulo = 3.1415926535898 * (raio ** 2) #** -> Calcula a potência.\n",
        "\n",
        "  print(f\"A área do circulo é: {area_circulo}\")"
      ],
      "metadata": {
        "id": "p-lBXUKXSvhA"
      },
      "execution_count": null,
      "outputs": []
    },
    {
      "cell_type": "code",
      "source": [
        "#07) Faça um Programa que calcule a área de um quadrado, em seguida mostre o dobro desta área para o usuário.\n",
        "\n",
        "lado = float(input(\"Insira o lado do quadrado: \"))\n",
        "\n",
        "#Se o lado for menor igual a 0 retorna um erro, não executando o restante do código.\n",
        "if(lado <= 0):\n",
        "  print(\"Lado inválido!\")\n",
        "else:\n",
        "  #Cálcula a área do quadrado\n",
        "  area_quadrado = lado ** 2 #** -> Calcula a potência.\n",
        "\n",
        "  print(f\"O dobro da área do quadrado é: {area_quadrado * 2}\")"
      ],
      "metadata": {
        "id": "XA1ikEIzTiN5"
      },
      "execution_count": null,
      "outputs": []
    },
    {
      "cell_type": "code",
      "source": [
        "#08) Faça um Programa que pergunte quanto você ganha por hora e o número de horas trabalhadas no mês. Calcule e mostre o total do seu salário no referido mês.\n",
        "\n",
        "ganho_hora = float(input(\"Informe seu ganho por hora: \"))\n",
        "horas_trabalhadas_mes = float(input(\"Informe as horas trabalhadas por mês: \"))\n",
        "\n",
        "#Se o ganho por hora ou horas trabalhadas por mês for menor que 0 será dado como inválido, não executando o código do cálculo.\n",
        "if(ganho_hora or horas_trabalhadas_mes < 0):\n",
        "  print(\"Um ou mais valores inválidos!\")\n",
        "else:\n",
        "  #Faz o cálculo do salário multiplicando ganho por hora por horas trabalhadas no mês.\n",
        "  salario = ganho_hora * horas_trabalhadas_mes\n",
        "  print(f\"Salário mensal: R${salario}\")\n"
      ],
      "metadata": {
        "id": "VQAkQ2w3UNmA"
      },
      "execution_count": null,
      "outputs": []
    },
    {
      "cell_type": "code",
      "source": [
        "#09) Faça um Programa que peça a temperatura em graus Fahrenheit, transforme e mostre a temperatura em graus Celsius.\n",
        "#C = 5 * ((F-32) / 9).\n",
        "\n",
        "temperatura_fahrenheit = float(input(\"Insira a temperatura em fahrenheit: \"))\n",
        "\n",
        "#Fórmula de conversão de fahrenheit para celsius.\n",
        "conversao_celsius = 5 * ((temperatura_fahrenheit - 32) / 9)\n",
        "\n",
        "print(f\"A conversão de fahrenheit para celsius é: {conversao_celsius}°C\")"
      ],
      "metadata": {
        "id": "k290__WwWGLI"
      },
      "execution_count": null,
      "outputs": []
    },
    {
      "cell_type": "code",
      "source": [
        "#10) Faça um Programa que peça a temperatura em graus Celsius, transforme e mostre em graus Fahrenheit.\n",
        "#F = (°C x 1.8) + 32\n",
        "\n",
        "temperatura_celsius = float(input(\"Insira a temperatura em celsius: \"))\n",
        "\n",
        "#Fórmula de conversão de celsius para fahrenheit.\n",
        "conversao_fahrenheit = (temperatura_celsius * 1.8) + 32\n",
        "\n",
        "print(f\"A conversão de celsius para fahrenheit é: {conversao_fahrenheit}°F\")"
      ],
      "metadata": {
        "id": "tiySQiBZWkMp"
      },
      "execution_count": null,
      "outputs": []
    },
    {
      "cell_type": "code",
      "source": [
        "#11) Faça um Programa que peça 2 números inteiros e um número real. Calcule e mostre:\n",
        "#a.o produto do dobro do primeiro com metade do segundo\n",
        "#b.a soma do triplo do primeiro com o terceiro.\n",
        "#c.o terceiro elevado ao cubo.\n",
        "\n",
        "numero_inteiro1 = int(input(\"Insira um número inteiro: \"))\n",
        "numero_inteiro2 = int(input(\"Insira outro número inteiro: \"))\n",
        "numero_real = float(input(\"Insira um número flutuante: \"))\n",
        "\n",
        "#Situação A: Faz a multiplicação de valor1 * 2 e valor2 / 2.\n",
        "situacao_a = (numero_inteiro1 * 2) * (numero_inteiro2 / 2)\n",
        "\n",
        "#Situação B: Faz a adição de valor1 * 3 e valor3.\n",
        "situacao_b = (numero_inteiro1 * 3) + (numero_real)\n",
        "\n",
        "#Situação C: Faz a exponenciação do valor3.\n",
        "situacao_c = numero_real ** 3\n",
        "\n",
        "print(f\"Situação A: {situacao_a}\")\n",
        "print(f\"Situação B: {situacao_b}\")\n",
        "print(f\"Situação C: {situacao_c}\")"
      ],
      "metadata": {
        "id": "1ceHbbJOXRxp"
      },
      "execution_count": null,
      "outputs": []
    },
    {
      "cell_type": "code",
      "source": [
        "#12) Tendo como dados de entrada a altura de uma pessoa, construa um algoritmo que calcule seu peso ideal, usando a seguinte fórmula: (72.7*altura) - 58\n",
        "\n",
        "altura = float(input(\"Insira a altura: \"))\n",
        "\n",
        "if(altura <= 0):\n",
        "  #Caso altura seja menor ou igual a 0 retornará altura inválida!\n",
        "  print(\"Altura Inválida!\")\n",
        "else:\n",
        "  #Fórmula do cálculo do peso ideal.\n",
        "  peso_ideal = (72.7 * altura) - 58\n",
        "\n",
        "  print(f\"Peso ideal: {peso_ideal:.2f}kg\")"
      ],
      "metadata": {
        "id": "M_HmNkC3Yxl5"
      },
      "execution_count": null,
      "outputs": []
    },
    {
      "cell_type": "code",
      "source": [
        "#13) Tendo como dado de entrada a altura (h) de uma pessoa, construa um algoritmo que calcule seu peso ideal, utilizando as seguintes fórmulas:\n",
        "#Para homens: (72.7*h) - 58\n",
        "#Para mulheres: (62.1*h) - 44.7\n",
        "\n",
        "altura = float(input(\"Insira a altura: \"))\n",
        "\n",
        "#Se altura for menor ou igual a 0 retornará inválido, não executando o código do cálculo.\n",
        "if(altura <= 0):\n",
        "  print(\"Altura Inválida!\")\n",
        "else:\n",
        "  #Cálculo de peso ideal masculino.\n",
        "  peso_ideal_masculino = (72.7 * altura) - 58\n",
        "\n",
        "  #Cálculo de peso ideal feminino.\n",
        "  peso_ideal_feminino = (62.1 * altura) - 44.7\n",
        "\n",
        "\n",
        "  print(f\"Peso ideal masculino: {peso_ideal_masculino:.2f}kg\")\n",
        "  print(f\"Peso ideal feminino: {peso_ideal_feminino:.2f}kg\")"
      ],
      "metadata": {
        "id": "OcC1MVr-ZKQ6"
      },
      "execution_count": null,
      "outputs": []
    },
    {
      "cell_type": "code",
      "source": [
        "#14) João Papo-de-Pescador, homem de bem, comprou um microcomputador para controlar o rendimento diário de seu trabalho. Toda vez que ele traz um peso de peixes maior que o estabelecido pelo regulamento de pesca do estado de São Paulo (50 quilos) deve pagar uma multa de R$ 4,00 por quilo excedente. João precisa que você faça um programa que leia a variável peso (peso de peixes) e calcule o excesso. Gravar na variável excesso a quantidade de quilos além do limite e na variável multa o valor da multa que João deverá pagar. Imprima os dados do programa com as mensagens adequadas.\n",
        "\n",
        "peso_peixe = float(input(\"Insira a quantidade em quilos do peixe: \"))\n",
        "\n",
        "#Caso o peso do peixe seja menor ou igual a 0, dará como inválido, não executando o cálculo do código.\n",
        "if(peso_peixe <= 0):\n",
        "  print(\"Valor de peso inválido!\")\n",
        "else:\n",
        "  #O cálculo de excesso e multa só será feito caso o peso do peixe ultrapasse 50kg.\n",
        "  if(peso_peixe > 50):\n",
        "    excesso = peso_peixe - 50\n",
        "    multa = excesso * 4\n",
        "    print(f\"O peixe contém {excesso}kg excedente, pagará uma multa de R$ {multa}\")\n",
        "  else:\n",
        "    print(f\"O peixe contém {peso_peixe}kg, não haverá multa!\")"
      ],
      "metadata": {
        "id": "G-nXZnqeZn7C"
      },
      "execution_count": null,
      "outputs": []
    },
    {
      "cell_type": "code",
      "source": [
        "#15) Faça um Programa que pergunte quanto você ganha por hora e o número de horas trabalhadas no mês. Calcule e mostre o total do seu salário no referido mês, sabendo-se que são descontados 11% para o Imposto de Renda, 8% para o INSS e 5% para o sindicato, faça um programa que nos dê:\n",
        "#salário bruto.\n",
        "#quanto pagou ao INSS.\n",
        "#quanto pagou ao sindicato.\n",
        "#o salário líquido.\n",
        "#calcule os descontos e o salário líquido, conforme a tabela abaixo:\n",
        "#+ Salário Bruto : R$\n",
        "#- IR (11%) : R$\n",
        "#- INSS (8%) : R$\n",
        "#- Sindicato ( 5%) : R$\n",
        "#= Salário Liquido : R$\n",
        "\n",
        "ganho_por_hora = float(input(\"Insira o ganho por hora: \"))\n",
        "horas_trabalhadas_mes = float(input(\"Insira as horas trabalhadas no mês: \"))\n",
        "\n",
        "#Caso ganho por hora ou horas trabalhadas no mes seja menor ou igual a 0, dará como inválido, não executando o cálculo do código.\n",
        "if(ganho_por_hora <= 0 or horas_trabalhadas_mes <= 0):\n",
        "  print(\"Um ou mais valores não pode ser menor igual a 0.\")\n",
        "else:\n",
        "  #Cálculo do salário bruto\n",
        "  salario_bruto = ganho_por_hora * horas_trabalhadas_mes\n",
        "\n",
        "  #Cálculo do imposto de renda\n",
        "  imposto_renda = salario_bruto * 0.11\n",
        "\n",
        "  #Cálculo do inss\n",
        "  inss = salario_bruto * 0.08\n",
        "\n",
        "  #Cálculo do sindicato\n",
        "  sindicato = salario_bruto * 0.05\n",
        "\n",
        "  #Total de descontos\n",
        "  descontos = (imposto_renda + inss + sindicato)\n",
        "\n",
        "  #Salário liquido gerado pelos descontos.\n",
        "  salario_liquido = salario_bruto - descontos\n",
        "\n",
        "\n",
        "  print(f\"+ Salário Bruto: R$ {salario_bruto}\")\n",
        "  print(f\"- IR (11%): R$ {imposto_renda}\")\n",
        "  print(f\"- INSS (8%): R$ {inss}\")\n",
        "  print(f\"- Sindicato(5%): R$ {sindicato}\")\n",
        "  print(f\"= Salário Liquido: R$ {salario_liquido}\")"
      ],
      "metadata": {
        "id": "MbYeC2L8tGGK"
      },
      "execution_count": null,
      "outputs": []
    },
    {
      "cell_type": "code",
      "source": [
        "#16) Faça um programa para uma loja de tintas. O programa deverá pedir o tamanho em metros quadrados da área a ser pintada. Considere que a cobertura da tinta é de 1 litro para cada 3 metros quadrados e que a tinta é vendida em latas de 18 litros, que custam R$ 80,00. Informe ao usuário a quantidades de latas de tinta a serem compradas e o preço total.\n",
        "\n",
        "#Biblioteca necessária para fazer o cálculo de arredondamento.\n",
        "import math\n",
        "area_metros = float(input(\"Insira o tamanho da área a ser pintada em metros quadrados: \"))\n",
        "\n",
        "#Se a area for menor ou igual a 0, dará como inválida, não executando o restante do código.\n",
        "if(area_metros <= 0):\n",
        "  print(\"Área inválida!\")\n",
        "else:\n",
        "  #Calcula a quantidade de litros necessários.\n",
        "  litros = (area_metros / 3)\n",
        "\n",
        "  #Calcula a quantidade de latas necessárias.\n",
        "  latas_necessarias = (litros / 18)\n",
        "  latas_necessarias = math.ceil(latas_necessarias)\n",
        "\n",
        "  #Calcula o preço das latas\n",
        "  preço_latas = latas_necessarias * 80\n",
        "\n",
        "  #Define se a frase ficará no singular ou plural de acordo com a quantidade de latas.\n",
        "  if(latas_necessarias == 1):\n",
        "    frase = \"Será necessário 1 lata.\"\n",
        "  else:\n",
        "    frase = f\"Serão necessárias {latas_necessarias} latas\"\n",
        "\n",
        "\n",
        "  print(frase)\n",
        "  print(f\"Preço total: R$ {preço_latas}\")"
      ],
      "metadata": {
        "id": "_95gbdneyYuk"
      },
      "execution_count": null,
      "outputs": []
    },
    {
      "cell_type": "code",
      "source": [
        "#17) Faça um Programa para uma loja de tintas. O programa deverá pedir o tamanho em metros quadrados da área a ser pintada. Considere que a cobertura da tinta é de 1 litro para cada 6 metros quadrados e que a tinta é vendida em latas de 18 litros, que custam R$ 80,00 ou em galões de 3,6 litros, que custam R$ 25,00.\n",
        "#Informe ao usuário as quantidades de tinta a serem compradas e os respectivos preços em 3 situações:\n",
        "#comprar apenas latas de 18 litros;\n",
        "#comprar apenas galões de 3,6 litros;\n",
        "#misturar latas e galões, de forma que o desperdício de tinta seja menor. Acrescente 10% de folga e sempre arredonde os valores para cima, isto é, considere latas cheias\n",
        "#Observações:\n",
        "  #1 litro --> 6m\n",
        "  #1 lata de de 18 litros custa 80,00\n",
        "  #1 galão de 3,6 custa 25,00\n",
        "\n",
        "#Biblioteca necessária para fazer o arredondamento.\n",
        "import math\n",
        "\n",
        "#Área que será pintada.\n",
        "area_metros = float(input(\"Informe a área a ser pintada: \"))\n",
        "\n",
        "#Se a área for menor igual a 0, será dado como área inválida, não executando o restante do código.\n",
        "if(area_metros <= 0):\n",
        "  print(\"Área inválida!\")\n",
        "else:\n",
        "\n",
        "  #Cálculo para saber a quantidade de tinta necessária.\n",
        "  litros = (area_metros / 6)\n",
        "\n",
        "  #Folga de 10% que será dada à quantidade de litros necessária.\n",
        "  folga = litros * 0.10\n",
        "  litros = litros + folga\n",
        "  litros = math.ceil(litros)\n",
        "\n",
        "  #Situação A: Apenas latas de 18 litros.\n",
        "\n",
        "  #Calcula a quantidade de latas necessárias.\n",
        "  latas_necessarias = (litros / 18)\n",
        "  latas_necessarias = math.ceil(latas_necessarias)\n",
        "\n",
        "  #Cálcula o preço total das latas necessárias.\n",
        "  preco_latas = latas_necessarias * 80\n",
        "\n",
        "  #Situação B: Apenas galões de 3,6 litros.\n",
        "\n",
        "  #Calcula a quantidade de galões necessários.\n",
        "  galoes_necessarios = (litros / 3.6)\n",
        "  galoes_necessarios = math.ceil(galoes_necessarios)\n",
        "\n",
        "  #Calcula o preço total dos galões necessários.\n",
        "  preco_galoes = galoes_necessarios * 25\n",
        "\n",
        "  #Situação C: Misturar latas e galões.\n",
        "\n",
        "  #Calculo da quantidade de latas necessárias.\n",
        "  mistura_latas = (litros / 18)\n",
        "  mistura_latas = math.floor(mistura_latas)\n",
        "\n",
        "  #Cálculo da quantidade restante de tinta que será preenchida com os galões.\n",
        "  litros_necessarios = mistura_latas * 18\n",
        "  tinta_restante = litros - litros_necessarios\n",
        "\n",
        "  #Cálculo da quantidade de galões necessárias.\n",
        "  mistura_galoes = (tinta_restante / 3.6)\n",
        "  mistura_galoes = math.ceil(mistura_galoes)\n",
        "\n",
        "  #Calcula o preço total da mistura de latas e galões.\n",
        "  preco_mistura_latas = (mistura_latas * 80)\n",
        "  preco_mistura_galoes = (mistura_galoes * 25)\n",
        "  preco_total = (preco_mistura_latas + preco_mistura_galoes)\n",
        "\n",
        "\n",
        "  print(\"Situação A:\")\n",
        "  print(f\"Quantidade de latas necessárias: {latas_necessarias}\")\n",
        "  print(f\"Preço total das latas: R${preco_latas}\\n\")\n",
        "\n",
        "  print(\"Situação B:\")\n",
        "  print(f\"Quantidade de galões necessários: {galoes_necessarios}\")\n",
        "  print(f\"Preço de galões necessários: R${preco_galoes}\\n\")\n",
        "\n",
        "  print(\"Situação C:\")\n",
        "  print(f\"Quantidade da mistura de latas: {mistura_latas}\")\n",
        "  print(f\"Quantidade da mistura de galões: {mistura_galoes}\")\n",
        "  print(f\"Preço de latas e galões necessários: R${preco_total}\\n\")\n",
        "\n",
        "  #Essa estrutura de decisão irá decidir qual a opção mais econômica baseado nos preços de cada situação.\n",
        "  if(preco_latas < preco_galoes and preco_latas < preco_total):\n",
        "    print(\"A opção A é a mais econômica.\")\n",
        "  elif(preco_galoes < preco_latas and preco_galoes < preco_total):\n",
        "    print(\"A opção B é a mais econômica.\")\n",
        "  elif(preco_total < preco_latas and preco_total < preco_galoes):\n",
        "    print(\"A opção C é a mais econômica.\")\n",
        "  elif(preco_latas == preco_galoes and preco_latas == preco_total and preco_galoes == preco_total):\n",
        "    print(\"Qualquer opção será a mais econômica.\")\n",
        "  elif(area_metros <= 54): #De 54 metros para baixo a situação b quanto c se igualam.\n",
        "    print(\"Tanto a situação B quanto C será econômica.\")\n"
      ],
      "metadata": {
        "id": "njpkMP5YVxJ9"
      },
      "execution_count": null,
      "outputs": []
    },
    {
      "cell_type": "code",
      "source": [
        "#18) Faça um programa que peça o tamanho de um arquivo para download (em MB) e a velocidade de um link de Internet (em Mbps), calcule e informe o tempo aproximado de download do arquivo usando este link (em minutos).\n",
        "\n",
        "arquivo_mb = float(input(\"Insira o tamanho para download do arquivo: \")) #megabytes\n",
        "velocidade_mbps = float(input(\"Insira a velocidade de internet: \")) #megabits por segundo\n",
        "\n",
        "#Cálculo para converter megabits por segundo em megabytes por segundo.\n",
        "conversao_MBps = velocidade_mbps / 8\n",
        "\n",
        "#Cálculo para calcular o tempo de download em segundos.\n",
        "calculo_tempo_segundos = arquivo_mb / conversao_MBps\n",
        "\n",
        "#Cálculo para converter o resultado em segundos em minutos.\n",
        "conversao_minutos = calculo_tempo_segundos / 60\n",
        "\n",
        "print(f\"O tempo aproximado em minutos é de {conversao_minutos:.2f} minutos.\")\n"
      ],
      "metadata": {
        "id": "gBdyBd7biQ3e"
      },
      "execution_count": null,
      "outputs": []
    }
  ]
}